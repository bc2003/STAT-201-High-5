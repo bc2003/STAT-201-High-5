{
 "cells": [
  {
   "cell_type": "markdown",
   "id": "34129592-980e-458c-b69c-e7afba6a27b7",
   "metadata": {},
   "source": [
    "# Group Proposal\n"
   ]
  },
  {
   "cell_type": "markdown",
   "id": "6dc447e0-3396-4b93-90a5-460a84b611ee",
   "metadata": {},
   "source": [
    "**Authors:** Bryan Chang, Linda Huang, Jade Jordan, Inan Latif\n",
    "\n",
    "**Group:** 5"
   ]
  },
  {
   "cell_type": "markdown",
   "id": "5a5c39e7-aefd-4b06-a583-41146051c366",
   "metadata": {},
   "source": [
    "## Introduction"
   ]
  },
  {
   "cell_type": "markdown",
   "id": "19a44172-7c79-477d-826d-94cbaf0a7c97",
   "metadata": {},
   "source": [
    "Bike theft is a common concern among Vancouverites, with cycling being a primary mode of transportation for many throughout the city. As such, it would be beneficial for cycling commuters to know how to reduce the chances of their bikes being stolen. To approach this, we are going to analyze the frequency of bike thefts in each Vancouver neighbourhood alongside the time of day (hour) in which they occur, so that people can better prepare to keep their bikes safe in these locations and time-periods.\n",
    "\n",
    "The data set which we are using is published directly by the Vancouver Police Department (VPD) with options for you to filter out crime data from 2003 to 2022, inclusive. Along with that, you are also able to filter by any of the neighbourhoods of Vancouver proper. We will filter X columns…\n",
    "\n",
    "**Response variable + test of interest:** \n",
    "\n",
    "**Research Question:** what location and time of day is bike theft most common?\n",
    "\n",
    "**filter out:** bike theft, hour, neighbourhood\n",
    "\n",
    "\n",
    "\n",
    "****\n"
   ]
  },
  {
   "cell_type": "markdown",
   "id": "5fef4d76-be79-4310-bf60-cd9e9885d9d2",
   "metadata": {},
   "source": [
    "## Preliminary Results\n"
   ]
  },
  {
   "cell_type": "code",
   "execution_count": 4,
   "id": "372cc459-2bc8-40f4-bfb2-abc037c57447",
   "metadata": {},
   "outputs": [],
   "source": [
    "library(tidyverse)\n",
    "library(datateachr)\n",
    "library(repr)\n",
    "library(digest)\n",
    "library(infer)\n",
    "library(grid)\n",
    "library(gridExtra)"
   ]
  },
  {
   "cell_type": "code",
   "execution_count": 5,
   "id": "8d345a79-ea12-442c-96b4-27aa66ea27a7",
   "metadata": {},
   "outputs": [
    {
     "data": {
      "text/html": [
       "<table class=\"dataframe\">\n",
       "<caption>A data.frame: 6 × 10</caption>\n",
       "<thead>\n",
       "\t<tr><th></th><th scope=col>type</th><th scope=col>year</th><th scope=col>month</th><th scope=col>day</th><th scope=col>hour</th><th scope=col>minute</th><th scope=col>hundred_block</th><th scope=col>neighbourhood</th><th scope=col>x</th><th scope=col>y</th></tr>\n",
       "\t<tr><th></th><th scope=col>&lt;chr&gt;</th><th scope=col>&lt;int&gt;</th><th scope=col>&lt;int&gt;</th><th scope=col>&lt;int&gt;</th><th scope=col>&lt;int&gt;</th><th scope=col>&lt;int&gt;</th><th scope=col>&lt;chr&gt;</th><th scope=col>&lt;chr&gt;</th><th scope=col>&lt;dbl&gt;</th><th scope=col>&lt;dbl&gt;</th></tr>\n",
       "</thead>\n",
       "<tbody>\n",
       "\t<tr><th scope=row>1</th><td>Theft from Vehicle</td><td>2019</td><td>10</td><td>10</td><td>20</td><td> 0</td><td>12XX W 76TH AVE</td><td>Marpole </td><td>490316.5</td><td>5449844</td></tr>\n",
       "\t<tr><th scope=row>2</th><td>Theft from Vehicle</td><td>2019</td><td> 3</td><td>19</td><td>21</td><td>45</td><td>12XX W 7TH AVE </td><td>Fairview</td><td>490387.2</td><td>5456955</td></tr>\n",
       "\t<tr><th scope=row>3</th><td>Theft from Vehicle</td><td>2019</td><td> 5</td><td> 3</td><td>17</td><td> 0</td><td>12XX W 8TH AVE </td><td>Fairview</td><td>490298.3</td><td>5456855</td></tr>\n",
       "\t<tr><th scope=row>4</th><td>Theft from Vehicle</td><td>2019</td><td> 3</td><td> 4</td><td> 0</td><td> 0</td><td>12XX W 8TH AVE </td><td>Fairview</td><td>490368.2</td><td>5456863</td></tr>\n",
       "\t<tr><th scope=row>5</th><td>Theft from Vehicle</td><td>2019</td><td> 3</td><td>29</td><td>23</td><td> 0</td><td>12XX W 8TH AVE </td><td>Fairview</td><td>490381.3</td><td>5456853</td></tr>\n",
       "\t<tr><th scope=row>6</th><td>Theft from Vehicle</td><td>2019</td><td>12</td><td>17</td><td> 5</td><td>16</td><td>12XX W 8TH AVE </td><td>Fairview</td><td>490441.0</td><td>5456852</td></tr>\n",
       "</tbody>\n",
       "</table>\n"
      ],
      "text/latex": [
       "A data.frame: 6 × 10\n",
       "\\begin{tabular}{r|llllllllll}\n",
       "  & type & year & month & day & hour & minute & hundred\\_block & neighbourhood & x & y\\\\\n",
       "  & <chr> & <int> & <int> & <int> & <int> & <int> & <chr> & <chr> & <dbl> & <dbl>\\\\\n",
       "\\hline\n",
       "\t1 & Theft from Vehicle & 2019 & 10 & 10 & 20 &  0 & 12XX W 76TH AVE & Marpole  & 490316.5 & 5449844\\\\\n",
       "\t2 & Theft from Vehicle & 2019 &  3 & 19 & 21 & 45 & 12XX W 7TH AVE  & Fairview & 490387.2 & 5456955\\\\\n",
       "\t3 & Theft from Vehicle & 2019 &  5 &  3 & 17 &  0 & 12XX W 8TH AVE  & Fairview & 490298.3 & 5456855\\\\\n",
       "\t4 & Theft from Vehicle & 2019 &  3 &  4 &  0 &  0 & 12XX W 8TH AVE  & Fairview & 490368.2 & 5456863\\\\\n",
       "\t5 & Theft from Vehicle & 2019 &  3 & 29 & 23 &  0 & 12XX W 8TH AVE  & Fairview & 490381.3 & 5456853\\\\\n",
       "\t6 & Theft from Vehicle & 2019 & 12 & 17 &  5 & 16 & 12XX W 8TH AVE  & Fairview & 490441.0 & 5456852\\\\\n",
       "\\end{tabular}\n"
      ],
      "text/markdown": [
       "\n",
       "A data.frame: 6 × 10\n",
       "\n",
       "| <!--/--> | type &lt;chr&gt; | year &lt;int&gt; | month &lt;int&gt; | day &lt;int&gt; | hour &lt;int&gt; | minute &lt;int&gt; | hundred_block &lt;chr&gt; | neighbourhood &lt;chr&gt; | x &lt;dbl&gt; | y &lt;dbl&gt; |\n",
       "|---|---|---|---|---|---|---|---|---|---|---|\n",
       "| 1 | Theft from Vehicle | 2019 | 10 | 10 | 20 |  0 | 12XX W 76TH AVE | Marpole  | 490316.5 | 5449844 |\n",
       "| 2 | Theft from Vehicle | 2019 |  3 | 19 | 21 | 45 | 12XX W 7TH AVE  | Fairview | 490387.2 | 5456955 |\n",
       "| 3 | Theft from Vehicle | 2019 |  5 |  3 | 17 |  0 | 12XX W 8TH AVE  | Fairview | 490298.3 | 5456855 |\n",
       "| 4 | Theft from Vehicle | 2019 |  3 |  4 |  0 |  0 | 12XX W 8TH AVE  | Fairview | 490368.2 | 5456863 |\n",
       "| 5 | Theft from Vehicle | 2019 |  3 | 29 | 23 |  0 | 12XX W 8TH AVE  | Fairview | 490381.3 | 5456853 |\n",
       "| 6 | Theft from Vehicle | 2019 | 12 | 17 |  5 | 16 | 12XX W 8TH AVE  | Fairview | 490441.0 | 5456852 |\n",
       "\n"
      ],
      "text/plain": [
       "  type               year month day hour minute hundred_block   neighbourhood\n",
       "1 Theft from Vehicle 2019 10    10  20    0     12XX W 76TH AVE Marpole      \n",
       "2 Theft from Vehicle 2019  3    19  21   45     12XX W 7TH AVE  Fairview     \n",
       "3 Theft from Vehicle 2019  5     3  17    0     12XX W 8TH AVE  Fairview     \n",
       "4 Theft from Vehicle 2019  3     4   0    0     12XX W 8TH AVE  Fairview     \n",
       "5 Theft from Vehicle 2019  3    29  23    0     12XX W 8TH AVE  Fairview     \n",
       "6 Theft from Vehicle 2019 12    17   5   16     12XX W 8TH AVE  Fairview     \n",
       "  x        y      \n",
       "1 490316.5 5449844\n",
       "2 490387.2 5456955\n",
       "3 490298.3 5456855\n",
       "4 490368.2 5456863\n",
       "5 490381.3 5456853\n",
       "6 490441.0 5456852"
      ]
     },
     "metadata": {},
     "output_type": "display_data"
    }
   ],
   "source": [
    "#Reading data into R, and renaming all columns to a standard format\n",
    "crime_data <- \n",
    "    read.csv(\"CrimeData.csv\") %>%  \n",
    "    setNames(c(\"type\",\n",
    "               \"year\",\n",
    "               \"month\",\n",
    "               \"day\",\n",
    "               \"hour\",\n",
    "               \"minute\",\n",
    "               \"hundred_block\",\n",
    "               \"neighbourhood\",\n",
    "               \"x\",\n",
    "               \"y\"))\n",
    "\n",
    "head(crime_data)"
   ]
  },
  {
   "cell_type": "markdown",
   "id": "1f853634-abdd-4bb4-bbb0-260d648b6e36",
   "metadata": {},
   "source": [
    "## Cleaning Data"
   ]
  },
  {
   "cell_type": "code",
   "execution_count": 10,
   "id": "022a7f0e-7b69-4a76-a7ab-bce7b4660efd",
   "metadata": {},
   "outputs": [
    {
     "data": {
      "text/html": [
       "<table class=\"dataframe\">\n",
       "<caption>A data.frame: 6 × 8</caption>\n",
       "<thead>\n",
       "\t<tr><th></th><th scope=col>year</th><th scope=col>month</th><th scope=col>day</th><th scope=col>hour</th><th scope=col>neighbourhood</th><th scope=col>x</th><th scope=col>y</th><th scope=col>address</th></tr>\n",
       "\t<tr><th></th><th scope=col>&lt;int&gt;</th><th scope=col>&lt;int&gt;</th><th scope=col>&lt;int&gt;</th><th scope=col>&lt;int&gt;</th><th scope=col>&lt;chr&gt;</th><th scope=col>&lt;dbl&gt;</th><th scope=col>&lt;dbl&gt;</th><th scope=col>&lt;chr&gt;</th></tr>\n",
       "</thead>\n",
       "<tbody>\n",
       "\t<tr><th scope=row>1</th><td>2019</td><td>10</td><td>10</td><td>20</td><td>Marpole </td><td>490316.5</td><td>5449844</td><td>12XX W 76TH AVE</td></tr>\n",
       "\t<tr><th scope=row>2</th><td>2019</td><td> 3</td><td>19</td><td>21</td><td>Fairview</td><td>490387.2</td><td>5456955</td><td>12XX W 7TH AVE </td></tr>\n",
       "\t<tr><th scope=row>3</th><td>2019</td><td> 5</td><td> 3</td><td>17</td><td>Fairview</td><td>490298.3</td><td>5456855</td><td>12XX W 8TH AVE </td></tr>\n",
       "\t<tr><th scope=row>4</th><td>2019</td><td> 3</td><td> 4</td><td> 0</td><td>Fairview</td><td>490368.2</td><td>5456863</td><td>12XX W 8TH AVE </td></tr>\n",
       "\t<tr><th scope=row>5</th><td>2019</td><td> 3</td><td>29</td><td>23</td><td>Fairview</td><td>490381.3</td><td>5456853</td><td>12XX W 8TH AVE </td></tr>\n",
       "\t<tr><th scope=row>6</th><td>2019</td><td>12</td><td>17</td><td> 5</td><td>Fairview</td><td>490441.0</td><td>5456852</td><td>12XX W 8TH AVE </td></tr>\n",
       "</tbody>\n",
       "</table>\n"
      ],
      "text/latex": [
       "A data.frame: 6 × 8\n",
       "\\begin{tabular}{r|llllllll}\n",
       "  & year & month & day & hour & neighbourhood & x & y & address\\\\\n",
       "  & <int> & <int> & <int> & <int> & <chr> & <dbl> & <dbl> & <chr>\\\\\n",
       "\\hline\n",
       "\t1 & 2019 & 10 & 10 & 20 & Marpole  & 490316.5 & 5449844 & 12XX W 76TH AVE\\\\\n",
       "\t2 & 2019 &  3 & 19 & 21 & Fairview & 490387.2 & 5456955 & 12XX W 7TH AVE \\\\\n",
       "\t3 & 2019 &  5 &  3 & 17 & Fairview & 490298.3 & 5456855 & 12XX W 8TH AVE \\\\\n",
       "\t4 & 2019 &  3 &  4 &  0 & Fairview & 490368.2 & 5456863 & 12XX W 8TH AVE \\\\\n",
       "\t5 & 2019 &  3 & 29 & 23 & Fairview & 490381.3 & 5456853 & 12XX W 8TH AVE \\\\\n",
       "\t6 & 2019 & 12 & 17 &  5 & Fairview & 490441.0 & 5456852 & 12XX W 8TH AVE \\\\\n",
       "\\end{tabular}\n"
      ],
      "text/markdown": [
       "\n",
       "A data.frame: 6 × 8\n",
       "\n",
       "| <!--/--> | year &lt;int&gt; | month &lt;int&gt; | day &lt;int&gt; | hour &lt;int&gt; | neighbourhood &lt;chr&gt; | x &lt;dbl&gt; | y &lt;dbl&gt; | address &lt;chr&gt; |\n",
       "|---|---|---|---|---|---|---|---|---|\n",
       "| 1 | 2019 | 10 | 10 | 20 | Marpole  | 490316.5 | 5449844 | 12XX W 76TH AVE |\n",
       "| 2 | 2019 |  3 | 19 | 21 | Fairview | 490387.2 | 5456955 | 12XX W 7TH AVE  |\n",
       "| 3 | 2019 |  5 |  3 | 17 | Fairview | 490298.3 | 5456855 | 12XX W 8TH AVE  |\n",
       "| 4 | 2019 |  3 |  4 |  0 | Fairview | 490368.2 | 5456863 | 12XX W 8TH AVE  |\n",
       "| 5 | 2019 |  3 | 29 | 23 | Fairview | 490381.3 | 5456853 | 12XX W 8TH AVE  |\n",
       "| 6 | 2019 | 12 | 17 |  5 | Fairview | 490441.0 | 5456852 | 12XX W 8TH AVE  |\n",
       "\n"
      ],
      "text/plain": [
       "  year month day hour neighbourhood x        y       address        \n",
       "1 2019 10    10  20   Marpole       490316.5 5449844 12XX W 76TH AVE\n",
       "2 2019  3    19  21   Fairview      490387.2 5456955 12XX W 7TH AVE \n",
       "3 2019  5     3  17   Fairview      490298.3 5456855 12XX W 8TH AVE \n",
       "4 2019  3     4   0   Fairview      490368.2 5456863 12XX W 8TH AVE \n",
       "5 2019  3    29  23   Fairview      490381.3 5456853 12XX W 8TH AVE \n",
       "6 2019 12    17   5   Fairview      490441.0 5456852 12XX W 8TH AVE "
      ]
     },
     "metadata": {},
     "output_type": "display_data"
    },
    {
     "data": {
      "text/html": [
       "<table class=\"dataframe\">\n",
       "<caption>A data.frame: 6 × 4</caption>\n",
       "<thead>\n",
       "\t<tr><th></th><th scope=col>year</th><th scope=col>day</th><th scope=col>hour</th><th scope=col>neighbourhood</th></tr>\n",
       "\t<tr><th></th><th scope=col>&lt;int&gt;</th><th scope=col>&lt;dbl&gt;</th><th scope=col>&lt;int&gt;</th><th scope=col>&lt;chr&gt;</th></tr>\n",
       "</thead>\n",
       "<tbody>\n",
       "\t<tr><th scope=row>1</th><td>2019</td><td>283</td><td>20</td><td>Marpole </td></tr>\n",
       "\t<tr><th scope=row>2</th><td>2019</td><td> 78</td><td>21</td><td>Fairview</td></tr>\n",
       "\t<tr><th scope=row>3</th><td>2019</td><td>123</td><td>17</td><td>Fairview</td></tr>\n",
       "\t<tr><th scope=row>4</th><td>2019</td><td> 63</td><td> 0</td><td>Fairview</td></tr>\n",
       "\t<tr><th scope=row>5</th><td>2019</td><td> 88</td><td>23</td><td>Fairview</td></tr>\n",
       "\t<tr><th scope=row>6</th><td>2019</td><td>351</td><td> 5</td><td>Fairview</td></tr>\n",
       "</tbody>\n",
       "</table>\n"
      ],
      "text/latex": [
       "A data.frame: 6 × 4\n",
       "\\begin{tabular}{r|llll}\n",
       "  & year & day & hour & neighbourhood\\\\\n",
       "  & <int> & <dbl> & <int> & <chr>\\\\\n",
       "\\hline\n",
       "\t1 & 2019 & 283 & 20 & Marpole \\\\\n",
       "\t2 & 2019 &  78 & 21 & Fairview\\\\\n",
       "\t3 & 2019 & 123 & 17 & Fairview\\\\\n",
       "\t4 & 2019 &  63 &  0 & Fairview\\\\\n",
       "\t5 & 2019 &  88 & 23 & Fairview\\\\\n",
       "\t6 & 2019 & 351 &  5 & Fairview\\\\\n",
       "\\end{tabular}\n"
      ],
      "text/markdown": [
       "\n",
       "A data.frame: 6 × 4\n",
       "\n",
       "| <!--/--> | year &lt;int&gt; | day &lt;dbl&gt; | hour &lt;int&gt; | neighbourhood &lt;chr&gt; |\n",
       "|---|---|---|---|---|\n",
       "| 1 | 2019 | 283 | 20 | Marpole  |\n",
       "| 2 | 2019 |  78 | 21 | Fairview |\n",
       "| 3 | 2019 | 123 | 17 | Fairview |\n",
       "| 4 | 2019 |  63 |  0 | Fairview |\n",
       "| 5 | 2019 |  88 | 23 | Fairview |\n",
       "| 6 | 2019 | 351 |  5 | Fairview |\n",
       "\n"
      ],
      "text/plain": [
       "  year day hour neighbourhood\n",
       "1 2019 283 20   Marpole      \n",
       "2 2019  78 21   Fairview     \n",
       "3 2019 123 17   Fairview     \n",
       "4 2019  63  0   Fairview     \n",
       "5 2019  88 23   Fairview     \n",
       "6 2019 351  5   Fairview     "
      ]
     },
     "metadata": {},
     "output_type": "display_data"
    }
   ],
   "source": [
    "#filtering out type and minute column\n",
    "crime_select <- crime_data %>% select(-type, -minute)\n",
    "\n",
    "#renaming hundred_block to a more human readable format\n",
    "crime_rename <- crime_select %>% \n",
    "                mutate(address = hundred_block) %>% \n",
    "                select(-hundred_block)\n",
    "days_by_m <- c(0, 31, 59, 90, 120, 151, 181, 212, 243, 273, 304, 334)\n",
    "crime_newcol <- crime_rename %>%\n",
    "                mutate(day = day + days_by_m[month]) %>%\n",
    "                select(-month, -x, -y, -address)\n",
    "head(crime_newcol)"
   ]
  },
  {
   "cell_type": "code",
   "execution_count": null,
   "id": "a75486bc-059f-45d7-ba31-bfd8de26d41f",
   "metadata": {},
   "outputs": [],
   "source": []
  },
  {
   "cell_type": "code",
   "execution_count": null,
   "id": "f9209902-e52b-443e-bd81-487045089b10",
   "metadata": {},
   "outputs": [],
   "source": []
  },
  {
   "cell_type": "code",
   "execution_count": null,
   "id": "788eb272-f79b-4433-b2cb-6e8efaf92af7",
   "metadata": {},
   "outputs": [],
   "source": []
  },
  {
   "cell_type": "code",
   "execution_count": null,
   "id": "7a51f34f-732c-4ac9-b692-f7d0d623a548",
   "metadata": {},
   "outputs": [],
   "source": []
  },
  {
   "cell_type": "code",
   "execution_count": null,
   "id": "c448411f-4f08-4da7-8d99-cbf124cfd513",
   "metadata": {},
   "outputs": [],
   "source": []
  },
  {
   "cell_type": "code",
   "execution_count": null,
   "id": "c05e3b97-fbb1-4f4a-a9e7-47a200db80b1",
   "metadata": {},
   "outputs": [],
   "source": []
  },
  {
   "cell_type": "code",
   "execution_count": null,
   "id": "8982e91d-ccd4-46c6-80a6-9343ff3a719a",
   "metadata": {},
   "outputs": [],
   "source": []
  },
  {
   "cell_type": "markdown",
   "id": "d59f1e5e-58cf-4acf-8815-d8cd29bbadec",
   "metadata": {},
   "source": [
    "## Methods & Plan"
   ]
  },
  {
   "cell_type": "markdown",
   "id": "34794d6f-07f2-4578-ac96-d26c5207b370",
   "metadata": {},
   "source": [
    "**Add Methods:**\n"
   ]
  },
  {
   "cell_type": "markdown",
   "id": "b96ee767-1846-4394-b8b7-c8c99ee04558",
   "metadata": {},
   "source": [
    "\n",
    "After inferential analysis of our data, we expect to find the Vancouver neighbourhood with the highest frequency of bike thefts. From that, we will visualize frequency of thefts by time. These findings could help cyclists prepare themselves to keep their property safe, or perhaps avoid cycling in specific areas/times.\n",
    "\n",
    "\n",
    "\n",
    "**add future progression/research**\n",
    "\n",
    "What do you expect to find?\n",
    "\n",
    "What impact could such findings have?\n",
    "\n",
    "What future questions could this lead to?\n",
    "\n",
    "\n"
   ]
  },
  {
   "cell_type": "code",
   "execution_count": null,
   "id": "75c9abca-5e0e-48e3-b929-48325c0318ef",
   "metadata": {},
   "outputs": [],
   "source": []
  }
 ],
 "metadata": {
  "kernelspec": {
   "display_name": "R",
   "language": "R",
   "name": "ir"
  },
  "language_info": {
   "codemirror_mode": "r",
   "file_extension": ".r",
   "mimetype": "text/x-r-source",
   "name": "R",
   "pygments_lexer": "r",
   "version": "4.1.3"
  }
 },
 "nbformat": 4,
 "nbformat_minor": 5
}
